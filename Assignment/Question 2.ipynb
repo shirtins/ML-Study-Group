{
 "cells": [
  {
   "cell_type": "code",
   "execution_count": 1,
   "metadata": {},
   "outputs": [],
   "source": [
    "import random\n",
    "def RockPaperScissors():\n",
    "    \"\"\"This is a tic tac toe game, the player has three lives to play this game.\n",
    "    \n",
    "        After the three lifes if he does not win the 3 games then he has lost.\n",
    "    \"\"\"\n",
    "    lifes = 3\n",
    "    win=0\n",
    "    \n",
    "    while lifes > 0:\n",
    "        per = input(\"Enter your choice: \")\n",
    "        while per not in ('Paper','Scissors','Rock'):\n",
    "            print(\"Please enter the correct input, either (Rock,Paper or Scissors), Capitalized\")\n",
    "            per = input(\"Enter your choice: \")\n",
    "        comp = random.choice(['Paper','Rock','Scissors'])\n",
    "        print(\"Computer played,\",comp)\n",
    "        if (per == 'Paper') and (comp=='Rock'):\n",
    "            print(\"You won this round, Continue\")\n",
    "            win+=1\n",
    "        elif (per == 'Rock') and (comp=='Paper'):\n",
    "            lifes-=1\n",
    "            print(\"You have\",lifes,\"left\")\n",
    "        elif (per == 'Paper') and (comp=='Scissors'):\n",
    "            lifes-=1\n",
    "            print(\"You have\",lifes,\"left\")\n",
    "        elif (per == 'Scissors') and (comp=='Paper'):\n",
    "            print(\"You won this round, Continue\")\n",
    "            win+=1\n",
    "        elif (per == 'Rock') and (comp=='Scissors'):\n",
    "            print(\"You won this round, Continue\")\n",
    "            win+=1\n",
    "        elif (per == 'Scissors') and (comp=='Rock'):\n",
    "            lifes-=1\n",
    "            print(\"You have\",lifes,\"left\")\n",
    "        else:\n",
    "            print('You drew Continue')\n",
    "            \n",
    "            \n",
    "    print(\"\")\n",
    "    if win==3:\n",
    "        print(\"You have won\")\n",
    "    else:\n",
    "        print(\"You have lost\")\n",
    "        \n",
    "    return \"You have\",win,\"points\"\n",
    "            \n",
    "RockPaperScissors()"
   ]
  },
  {
   "cell_type": "code",
   "execution_count": null,
   "metadata": {},
   "outputs": [],
   "source": []
  },
  {
   "cell_type": "code",
   "execution_count": null,
   "metadata": {},
   "outputs": [],
   "source": []
  },
  {
   "cell_type": "code",
   "execution_count": null,
   "metadata": {},
   "outputs": [],
   "source": []
  },
  {
   "cell_type": "code",
   "execution_count": null,
   "metadata": {},
   "outputs": [],
   "source": []
  }
 ],
 "metadata": {
  "kernelspec": {
   "display_name": "Python 3",
   "language": "python",
   "name": "python3"
  },
  "language_info": {
   "codemirror_mode": {
    "name": "ipython",
    "version": 3
   },
   "file_extension": ".py",
   "mimetype": "text/x-python",
   "name": "python",
   "nbconvert_exporter": "python",
   "pygments_lexer": "ipython3",
   "version": "3.7.3"
  }
 },
 "nbformat": 4,
 "nbformat_minor": 2
}
