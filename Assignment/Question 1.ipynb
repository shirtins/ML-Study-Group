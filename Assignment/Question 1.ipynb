{
 "cells": [
  {
   "cell_type": "code",
   "execution_count": 140,
   "metadata": {},
   "outputs": [],
   "source": [
    "import math\n",
    "from collections import Counter\n",
    "def mean(a_list):\n",
    "    \"\"\"\n",
    "    This function takes in a list of numbers\n",
    "    \n",
    "    Returns the mean of the elements in the list\n",
    "    \"\"\"\n",
    "    return sum(a_list)/len(a_list)\n",
    "\n",
    "\n",
    "def median(a_list):\n",
    "    \"\"\"\n",
    "    This function takes in a list\n",
    "    \n",
    "    Returns the median of the list\n",
    "    \"\"\"\n",
    "    a_list.sort()\n",
    "    print(a_list)\n",
    "    if len(a_list) % 2 != 0:\n",
    "        return a_list[int((len(a_list)/2)+0.5)-1]\n",
    "    else:\n",
    "        return (a_list[int(len(a_list)/2)-1] + a_list[int(len(a_list)/2)])/2\n",
    "\n",
    "    \n",
    "\n",
    "def mode(a_list):\n",
    "    \"\"\"This function takes in a list\n",
    "    \n",
    "    Returns the mode of the list\n",
    "    \"\"\"\n",
    "    a = Counter(a_list)\n",
    "    c = max(a.values())\n",
    "    return [i for i in a if a[i]== c]\n",
    "\n",
    "\n",
    "\n",
    "def std(a_list):\n",
    "    \"\"\" This function takes in a list\n",
    "    RETURNS THE STANDARD DEVIATION\n",
    "    \"\"\"\n",
    "    mean = sum(a_list)/len(a_list)\n",
    "    print(mean)\n",
    "    var = [(i - mean)**2 for i in a_list]\n",
    "    print(var)\n",
    "    return math.sqrt(sum(var)/len(a_list))\n",
    "\n",
    "def percentile(a_list, perc):\n",
    "    \"\"\"\n",
    "    This program takes in a list\n",
    "    Retruns the percentile of the list\n",
    "    \"\"\"\n",
    "    a_list.sort()\n",
    "    print(a_list)\n",
    "    r = a_list[math.ceil((perc*len(a_list)/100))-1]\n",
    "    return r"
   ]
  }
 ],
 "metadata": {
  "kernelspec": {
   "display_name": "Python 3",
   "language": "python",
   "name": "python3"
  },
  "language_info": {
   "codemirror_mode": {
    "name": "ipython",
    "version": 3
   },
   "file_extension": ".py",
   "mimetype": "text/x-python",
   "name": "python",
   "nbconvert_exporter": "python",
   "pygments_lexer": "ipython3",
   "version": "3.7.3"
  }
 },
 "nbformat": 4,
 "nbformat_minor": 2
}
